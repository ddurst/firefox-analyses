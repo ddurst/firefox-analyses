{
 "cells": [
  {
   "cell_type": "code",
   "execution_count": 13,
   "metadata": {
    "collapsed": false
   },
   "outputs": [
    {
     "name": "stdout",
     "output_type": "stream",
     "text": [
      "Populating the interactive namespace from numpy and matplotlib\n"
     ]
    }
   ],
   "source": [
    "from moztelemetry import get_pings, get_pings_properties\n",
    "import datetime as dt\n",
    "from pyspark.sql.types import *\n",
    "import numpy as np\n",
    "\n",
    "%pylab inline"
   ]
  },
  {
   "cell_type": "markdown",
   "metadata": {},
   "source": [
    "Take the set of pings, make sure we have actual clientIds and remove duplicate pings. We collect each unique ping."
   ]
  },
  {
   "cell_type": "code",
   "execution_count": 14,
   "metadata": {
    "collapsed": false
   },
   "outputs": [],
   "source": [
    "def dedupe_pings(rdd):\n",
    "    return rdd.filter(lambda p: p[\"meta/clientId\"] is not None)\\\n",
    "              .map(lambda p: (p[\"meta/documentId\"], p))\\\n",
    "              .reduceByKey(lambda x, y: x)\\\n",
    "              .map(lambda x: x[1])\n"
   ]
  },
  {
   "cell_type": "code",
   "execution_count": 15,
   "metadata": {
    "collapsed": true
   },
   "outputs": [],
   "source": [
    "def only_update_pings(rdd):\n",
    "    return rdd.filter(lambda p: p[\"payload/histograms/UPDATE_PING_COUNT_NOTIFY\"] is not None)\n"
   ]
  },
  {
   "cell_type": "markdown",
   "metadata": {},
   "source": [
    "Transform and sanitize the pings into arrays."
   ]
  },
  {
   "cell_type": "code",
   "execution_count": 16,
   "metadata": {
    "collapsed": false
   },
   "outputs": [],
   "source": [
    "def transform(ping):\n",
    "    # Should not be None since we filter those out.\n",
    "    clientId = ping[\"meta/clientId\"]\n",
    "\n",
    "    # Added via the ingestion process so should not be None.\n",
    "#    submissionDate = dt.datetime.strptime(ping[\"meta/submissionDate\"], \"%Y%m%d\")\n",
    "    submissionDate = dt.datetime.strptime(ping[\"meta/submissionDate\"], \"%Y%m%d\").strftime('%Y%m%d')\n",
    "\n",
    "    # Create date should already be in ISO format\n",
    "#    profileCreationDate = ping[\"creationDate\"]\n",
    "#    if profileCreationDate is not None:\n",
    "        # We only care about the year month and day.\n",
    "#        profileCreationDate = dt.datetime.strptime(ping[\"creationDate\"][:10], \"%Y-%m-%d\")\n",
    "#        profileCreationDate = dt.datetime.strptime(ping[\"creationDate\"][:10], \"%Y-%m-%d\").strftime('%Y%m%d')\n",
    "\n",
    "    appVersion = ping[\"meta/appVersion\"]\n",
    "    updatePingCount = ping[\"payload/histograms/UPDATE_PING_COUNT_NOTIFY\"]\n",
    "\n",
    "    updateCheckCodeNotify = []\n",
    "    checkCode = ping[\"payload/histograms/UPDATE_CHECK_CODE_NOTIFY\"]\n",
    "    noUpdate = ping[\"payload/histograms/UPDATE_CHECK_NO_UPDATE_NOTIFY\"]\n",
    "    if updatePingCount is not None and updatePingCount > 0 and checkCode is not None:\n",
    "        updateCheckCodeNotify = np.asarray(checkCode.astype(np.int32).tolist()).tolist()\n",
    "#        mehagain2 = mehagain.tolist()\n",
    "#        updateCheckCodeNotify = np.asarray(mehagain2).tolist()\n",
    "#    updateCheckCodeNotify = [10, 20, 30]\n",
    "\n",
    "    settingsUpdateEnabled = ping[\"environment/settings/update/enabled\"]\n",
    "    settingsUpdateAuto = ping[\"environment/settings/update/autoDownload\"]\n",
    "    subsessionStartDate = ping[\"payload/info/subsessionStartDate\"]\n",
    "    if subsessionStartDate is not None:\n",
    "#        subsessionStartDate = dt.datetime.strptime(ping[\"payload/info/subsessionStartDate\"][:10], \"%Y-%m-%d\")\n",
    "        subsessionStartDate = dt.datetime.strptime(ping[\"payload/info/subsessionStartDate\"][:10], \"%Y-%m-%d\").strftime('%Y%m%d')\n",
    "\n",
    "    subsessionLength = ping[\"payload/info/subsessionLength\"]\n",
    "\n",
    "\n",
    "    updateAuto = None\n",
    "    updateEnabled = None\n",
    "    if updatePingCount > 0:\n",
    "        updateAuto = True\n",
    "        if ping[\"payload/histograms/UPDATE_NOT_PREF_UPDATE_AUTO_NOTIFY\"] > 0:\n",
    "            updateAuto = False\n",
    "        updateEnabled = True\n",
    "        if ping[\"payload/histograms/UPDATE_NOT_PREF_UPDATE_ENABLED_NOTIFY\"] > 0:\n",
    "            updateEnabled = False\n",
    "\n",
    "    return [clientId, submissionDate, appVersion, subsessionStartDate, subsessionLength, settingsUpdateEnabled, settingsUpdateAuto, updateEnabled, updateAuto, updatePingCount, updateCheckCodeNotify]\n",
    "#    return [clientId, submissionDate, profileCreationDate, appVersion, subsessionStartDate, subsessionLength, settingsUpdateEnabled, settingsUpdateAuto, updateEnabled, updateAuto, updatePingCount, updateCheckCodeNotify]\n"
   ]
  },
  {
   "cell_type": "markdown",
   "metadata": {},
   "source": [
    "Create a set of pings from \"core\" to build a set of core client data. Output the data to CSV or Parquet.\n",
    "\n",
    "This script is designed to loop over a range of days and output a single day for the given channels. Use explicit date ranges for backfilling, or now() - '1day' for automated runs."
   ]
  },
  {
   "cell_type": "code",
   "execution_count": 17,
   "metadata": {
    "collapsed": false
   },
   "outputs": [
    {
     "name": "stdout",
     "output_type": "stream",
     "text": [
      "\n",
      "start date: 20161026\n",
      "end date  : 20161026\n",
      "\n",
      "version: 43.0.1, date: 20161026\n",
      "\n",
      "pings:75981\n",
      "\n",
      "De-duped pings:71017\n",
      "{'meta/clientId': u'b710a107-23bc-43c6-aed3-9cbd943b7845', 'meta/submissionDate': u'20161026', 'environment/settings/update/autoDownload': False, 'payload/histograms/UPDATE_PING_COUNT_NOTIFY': None, 'payload/info/subsessionStartDate': u'2016-10-26T00:00:00.0+05:30', 'payload/histograms/UPDATE_CHECK_NO_UPDATE_NOTIFY': None, 'meta/appVersion': u'43.0.1', 'payload/info/subsessionLength': 80, 'payload/histograms/UPDATE_CHECK_CODE_NOTIFY': None, 'payload/histograms/UPDATE_NOT_PREF_UPDATE_ENABLED_NOTIFY': None, 'payload/histograms/UPDATE_NOT_PREF_UPDATE_AUTO_NOTIFY': None, 'environment/settings/update/enabled': True, 'meta/documentId': u'709ffff1-b8ec-41e9-bf53-ccd774c05325'}\n",
      "\n",
      "Transformed pings:71017\n",
      "[u'c83434cf-59ab-4ffe-9213-4b9cc9bf24c0', '20161026', u'43.0.1', '20100225', 2, True, True, None, None, None, []]\n"
     ]
    }
   ],
   "source": [
    "channels = [\"nightly\", \"aurora\", \"beta\", \"release\"]\n",
    "#versions = [\"42.0\", \"43.0\"]\n",
    "versions = [\"43.0.1\"]\n",
    "\n",
    "#batch_date = os.environ.get('date')\n",
    "batch_date = None\n",
    "if batch_date:\n",
    "    start = end = dt.datetime.strptime(batch_date, '%Y%m%d')\n",
    "else:\n",
    "    start = dt.datetime.now() - dt.timedelta(1)\n",
    "    end = dt.datetime.now() - dt.timedelta(1)\n",
    "\n",
    "channel = \"release\"\n",
    "print \"\\nstart date: \" + start.strftime(\"%Y%m%d\")\n",
    "print \"end date  : \" + end.strftime(\"%Y%m%d\")\n",
    "day = start\n",
    "for version in versions:\n",
    "    print \"\\nversion: \" + version + \", date: \" + day.strftime(\"%Y%m%d\")\n",
    "\n",
    "    kwargs = dict(\n",
    "        submission_date=(start.strftime(\"%Y%m%d\"), end.strftime(\"%Y%m%d\")),\n",
    "        channel=channel,\n",
    "        app=\"Firefox\",\n",
    "        version=version,\n",
    "        fraction=1\n",
    "    )\n",
    "\n",
    "    # Grab all available source_version pings\n",
    "    pings = get_pings(sc, source_version=\"*\", **kwargs)\n",
    "\n",
    "    subset = get_pings_properties(pings, [\"meta/clientId\",\n",
    "                                          \"meta/documentId\",\n",
    "                                          \"meta/submissionDate\",\n",
    "                                          \"meta/appVersion\",\n",
    "                                          \"payload/info/subsessionStartDate\",\n",
    "                                          \"payload/info/subsessionLength\",\n",
    "                                          \"payload/histograms/UPDATE_CHECK_CODE_NOTIFY\",\n",
    "                                          \"payload/histograms/UPDATE_CHECK_NO_UPDATE_NOTIFY\",\n",
    "                                          \"payload/histograms/UPDATE_NOT_PREF_UPDATE_AUTO_NOTIFY\",\n",
    "                                          \"payload/histograms/UPDATE_NOT_PREF_UPDATE_ENABLED_NOTIFY\",\n",
    "                                          \"payload/histograms/UPDATE_PING_COUNT_NOTIFY\",\n",
    "                                          \"environment/settings/update/enabled\",\n",
    "                                          \"environment/settings/update/autoDownload\"])\n",
    "\n",
    "    print \"\\npings:\" + str(subset.count())\n",
    "\n",
    "    subset = dedupe_pings(subset)\n",
    "    print \"\\nDe-duped pings:\" + str(subset.count())\n",
    "    print subset.first()\n",
    "\n",
    "#        subset = only_update_pings(subset)\n",
    "#        print \"\\nType: \" + str(type(subset.first()[\"payload/histograms/UPDATE_CHECK_CODE_NOTIFY\"]))\n",
    "\n",
    "    transformed = subset.map(transform)\n",
    "    print \"\\nTransformed pings:\" + str(transformed.count())\n",
    "    print transformed.first()\n",
    "#        print \"\\nType: \" + str(type(transformed.first()[10]))\n",
    "\n",
    "#        s3_output = \"s3n://net-mozaws-prod-us-west-2-pipeline-analysis/mobile/mobile_clients\"\n",
    "#        s3_output += \"/v1/channel=\" + channel + \"/submission=\" + day.strftime(\"%Y%m%d\") \n",
    "    schema = StructType([\n",
    "        StructField(\"client_id\", StringType(), False),\n",
    "        StructField(\"submission_date\", StringType(), False),\n",
    "        StructField(\"app_version\", StringType(), True),\n",
    "        StructField(\"subsession_start_date\", StringType(), True),\n",
    "        StructField(\"subsession_length\", LongType(), True),\n",
    "        StructField(\"settings_update_enabled\", BooleanType(), True),\n",
    "        StructField(\"settings_update_auto\", BooleanType(), True),\n",
    "        StructField(\"update_enabled\", BooleanType(), True),\n",
    "        StructField(\"update_auto\", BooleanType(), True),\n",
    "        StructField(\"update_ping_count\", IntegerType(), True),\n",
    "        StructField(\"update_check_code_notify\", ArrayType(IntegerType(), False), False)\n",
    "    ])\n",
    "\n",
    "# Make parquet parition file size large, but not too large for s3 to handle\n",
    "    grouped = sqlContext.createDataFrame(transformed, schema)\n",
    " \n",
    "    #day += dt.timedelta(1)\n"
   ]
  },
  {
   "cell_type": "code",
   "execution_count": 18,
   "metadata": {
    "collapsed": false
   },
   "outputs": [],
   "source": [
    "grouped.registerTempTable(\"grouped\")"
   ]
  },
  {
   "cell_type": "markdown",
   "metadata": {},
   "source": [
    "Join with MainSummary to get the latest record's Firefox version\n",
    "\n",
    "How do we get combined subsession length over X weeks when we restrict the query to 1 week?"
   ]
  },
  {
   "cell_type": "code",
   "execution_count": 19,
   "metadata": {
    "collapsed": false
   },
   "outputs": [
    {
     "data": {
      "text/plain": [
       "[Row(client_id=u'54ccbda9-9efd-473c-9934-c83a8bf20299', submission_date=u'20161026', app_version=u'43.0.1', subsession_start_date=u'20161022', subsession_length=211, settings_update_enabled=True, settings_update_auto=True, update_enabled=None, update_auto=None, update_ping_count=None, update_check_code_notify=[]),\n",
       " Row(client_id=u'd9a13d58-8bd6-4c5f-987a-22e0b6fbb945', submission_date=u'20161026', app_version=u'43.0.1', subsession_start_date=u'20161002', subsession_length=41, settings_update_enabled=False, settings_update_auto=False, update_enabled=None, update_auto=None, update_ping_count=None, update_check_code_notify=[]),\n",
       " Row(client_id=u'8a7067dc-4535-45d7-a7f0-720962edfa1c', submission_date=u'20161026', app_version=u'43.0.1', subsession_start_date=u'20161026', subsession_length=2503, settings_update_enabled=True, settings_update_auto=True, update_enabled=True, update_auto=True, update_ping_count=1, update_check_code_notify=[0, 0, 0, 0, 0, 0, 0, 0, 0, 1, 0, 0, 0, 0, 0, 0, 0, 0, 0, 0, 0, 0, 0, 0, 0, 0, 0, 0, 0, 0, 0, 0, 0, 0, 0, 0, 0, 0, 0, 0, 0, 0, 0, 0, 0, 0, 0, 0, 0, 0, 0]),\n",
       " Row(client_id=u'340a2569-2ef9-4e93-a211-2883503e8d5c', submission_date=u'20161026', app_version=u'43.0.1', subsession_start_date=u'20161023', subsession_length=23652, settings_update_enabled=True, settings_update_auto=True, update_enabled=None, update_auto=None, update_ping_count=None, update_check_code_notify=[]),\n",
       " Row(client_id=u'055fabdc-1362-4676-906f-c637c5ca61f9', submission_date=u'20161026', app_version=u'43.0.1', subsession_start_date=u'20161026', subsession_length=35, settings_update_enabled=True, settings_update_auto=True, update_enabled=None, update_auto=None, update_ping_count=None, update_check_code_notify=[]),\n",
       " Row(client_id=u'a8fa64d2-4daf-4609-a422-00342661b497', submission_date=u'20161026', app_version=u'43.0.1', subsession_start_date=u'20161025', subsession_length=31758, settings_update_enabled=True, settings_update_auto=True, update_enabled=True, update_auto=True, update_ping_count=1, update_check_code_notify=[0, 1, 0, 0, 0, 0, 0, 0, 0, 0, 0, 0, 0, 0, 0, 0, 0, 0, 0, 0, 0, 0, 0, 0, 0, 0, 0, 0, 0, 0, 0, 0, 0, 0, 0, 0, 0, 0, 0, 0, 0, 0, 0, 0, 0, 0, 0, 0, 0, 0, 0]),\n",
       " Row(client_id=u'2d25366c-d4a8-4599-9531-be7dd511b84d', submission_date=u'20161026', app_version=u'43.0.1', subsession_start_date=u'20161025', subsession_length=76, settings_update_enabled=True, settings_update_auto=True, update_enabled=None, update_auto=None, update_ping_count=None, update_check_code_notify=[]),\n",
       " Row(client_id=u'c19e1279-13ad-47b6-9fa9-0ea9305b6f0f', submission_date=u'20161026', app_version=u'43.0.1', subsession_start_date=u'20161025', subsession_length=2636, settings_update_enabled=True, settings_update_auto=True, update_enabled=True, update_auto=True, update_ping_count=1, update_check_code_notify=[0, 0, 0, 0, 0, 0, 0, 0, 0, 1, 0, 0, 0, 0, 0, 0, 0, 0, 0, 0, 0, 0, 0, 0, 0, 0, 0, 0, 0, 0, 0, 0, 0, 0, 0, 0, 0, 0, 0, 0, 0, 0, 0, 0, 0, 0, 0, 0, 0, 0, 0]),\n",
       " Row(client_id=u'f14b4771-ddb1-4424-bdf8-b7c70c7b1185', submission_date=u'20161026', app_version=u'43.0.1', subsession_start_date=u'20161026', subsession_length=8821, settings_update_enabled=True, settings_update_auto=True, update_enabled=True, update_auto=True, update_ping_count=1, update_check_code_notify=[0, 0, 0, 0, 0, 0, 0, 0, 0, 0, 0, 0, 0, 0, 0, 0, 0, 0, 0, 0, 0, 0, 0, 1, 0, 0, 0, 0, 0, 0, 0, 0, 0, 0, 0, 0, 0, 0, 0, 0, 0, 0, 0, 0, 0, 0, 0, 0, 0, 0, 0]),\n",
       " Row(client_id=u'6aca175c-88dc-4cf2-9cdb-46dd0624af12', submission_date=u'20161026', app_version=u'43.0.1', subsession_start_date=u'20161026', subsession_length=2609, settings_update_enabled=True, settings_update_auto=True, update_enabled=True, update_auto=True, update_ping_count=1, update_check_code_notify=[0, 0, 0, 0, 0, 0, 0, 0, 0, 1, 0, 0, 0, 0, 0, 0, 0, 0, 0, 0, 0, 0, 0, 0, 0, 0, 0, 0, 0, 0, 0, 0, 0, 0, 0, 0, 0, 0, 0, 0, 0, 0, 0, 0, 0, 0, 0, 0, 0, 0, 0])]"
      ]
     },
     "execution_count": 19,
     "metadata": {},
     "output_type": "execute_result"
    }
   ],
   "source": [
    "grouped.take(10)"
   ]
  },
  {
   "cell_type": "code",
   "execution_count": 20,
   "metadata": {
    "collapsed": true
   },
   "outputs": [],
   "source": [
    "query = (\"\"\n",
    "\"SELECT COUNT(DISTINCT client_id) FROM grouped\")"
   ]
  },
  {
   "cell_type": "code",
   "execution_count": 21,
   "metadata": {
    "collapsed": false
   },
   "outputs": [
    {
     "name": "stdout",
     "output_type": "stream",
     "text": [
      "CPU times: user 0 ns, sys: 0 ns, total: 0 ns\n",
      "Wall time: 42.4 ms\n"
     ]
    }
   ],
   "source": [
    "%time results = sqlContext.sql(query)"
   ]
  },
  {
   "cell_type": "code",
   "execution_count": 22,
   "metadata": {
    "collapsed": false
   },
   "outputs": [
    {
     "data": {
      "text/plain": [
       "[Row(_c0=23419)]"
      ]
     },
     "execution_count": 22,
     "metadata": {},
     "output_type": "execute_result"
    }
   ],
   "source": [
    "results.take(10)"
   ]
  },
  {
   "cell_type": "code",
   "execution_count": 35,
   "metadata": {
    "collapsed": false
   },
   "outputs": [
    {
     "data": {
      "text/plain": [
       "\"SELECT DISTINCT d.lastVersion, COUNT(DISTINCT a.client_id) AS Total FROM grouped a INNER JOIN (SELECT DISTINCT b.client_id, MAX(b.app_version) AS lastVersion, MAX(c.lastVersionSubmissionDate) AS lastVersionSubmissionDate FROM parquet.`s3://telemetry-parquet/main_summary/v3` b INNER JOIN (SELECT DISTINCT client_id, MAX(submission_date_s3) AS lastVersionSubmissionDate FROM parquet.`s3://telemetry-parquet/main_summary/v3` WHERE channel = 'release' AND submission_date_s3 > '20161001' GROUP BY client_id) c ON b.client_id = c.client_id AND b.submission_date_s3 = c.lastVersionSubmissionDate WHERE b.channel = 'release' AND b.submission_date_s3 > '20161001' GROUP BY b.client_id) d ON a.client_id = d.client_id GROUP BY d.lastVersion\""
      ]
     },
     "execution_count": 35,
     "metadata": {},
     "output_type": "execute_result"
    }
   ],
   "source": [
    "mainSummaryParquetPath = \"s3://telemetry-parquet/main_summary/v3\"\n",
    "minSubmissionDate = \"20161001\"\n",
    "query = (\"SELECT \"\n",
    "             \"DISTINCT d.lastVersion, \"\n",
    "             \"COUNT(DISTINCT a.client_id) AS Total \"\n",
    "         \"FROM grouped a \"\n",
    "             \"INNER JOIN (\"\n",
    "                 \"SELECT \"\n",
    "                     \"DISTINCT b.client_id, \"\n",
    "                     \"MAX(b.app_version) AS lastVersion, \"\n",
    "                     \"MAX(c.lastVersionSubmissionDate) AS lastVersionSubmissionDate \"\n",
    "                 \"FROM parquet.`{}` b \"\n",
    "                     \"INNER JOIN (\"\n",
    "                         \"SELECT \"\n",
    "                             \"DISTINCT client_id, \"\n",
    "                             \"MAX(submission_date_s3) AS lastVersionSubmissionDate \"\n",
    "                         \"FROM parquet.`{}` \"\n",
    "                             \"WHERE channel = 'release' AND submission_date_s3 > '{}' \"\n",
    "                             \"GROUP BY client_id) c \"\n",
    "                     \"ON b.client_id = c.client_id AND b.submission_date_s3 = c.lastVersionSubmissionDate \"\n",
    "                     \"WHERE b.channel = 'release' AND b.submission_date_s3 > '{}' \"\n",
    "                     \"GROUP BY b.client_id) d \"\n",
    "             \"ON a.client_id = d.client_id \"\n",
    "             \"GROUP BY d.lastVersion\").format(mainSummaryParquetPath, mainSummaryParquetPath,\n",
    "                                           minSubmissionDate, minSubmissionDate)\n",
    "query"
   ]
  },
  {
   "cell_type": "code",
   "execution_count": 36,
   "metadata": {
    "collapsed": false
   },
   "outputs": [
    {
     "name": "stdout",
     "output_type": "stream",
     "text": [
      "CPU times: user 4 ms, sys: 4 ms, total: 8 ms\n",
      "Wall time: 44.4 s\n"
     ]
    }
   ],
   "source": [
    "%time results = sqlContext.sql(query)"
   ]
  },
  {
   "cell_type": "code",
   "execution_count": 37,
   "metadata": {
    "collapsed": false
   },
   "outputs": [
    {
     "data": {
      "text/html": [
       "<div>\n",
       "<table border=\"1\" class=\"dataframe\">\n",
       "  <thead>\n",
       "    <tr style=\"text-align: right;\">\n",
       "      <th></th>\n",
       "      <th>lastVersion</th>\n",
       "      <th>Total</th>\n",
       "    </tr>\n",
       "  </thead>\n",
       "  <tbody>\n",
       "    <tr>\n",
       "      <th>0</th>\n",
       "      <td>45.0.1</td>\n",
       "      <td>49</td>\n",
       "    </tr>\n",
       "    <tr>\n",
       "      <th>1</th>\n",
       "      <td>45.0.2</td>\n",
       "      <td>30</td>\n",
       "    </tr>\n",
       "    <tr>\n",
       "      <th>2</th>\n",
       "      <td>45.0</td>\n",
       "      <td>7</td>\n",
       "    </tr>\n",
       "    <tr>\n",
       "      <th>3</th>\n",
       "      <td>47.0.1</td>\n",
       "      <td>1379</td>\n",
       "    </tr>\n",
       "    <tr>\n",
       "      <th>4</th>\n",
       "      <td>44.0</td>\n",
       "      <td>7</td>\n",
       "    </tr>\n",
       "    <tr>\n",
       "      <th>5</th>\n",
       "      <td>49.0</td>\n",
       "      <td>6</td>\n",
       "    </tr>\n",
       "    <tr>\n",
       "      <th>6</th>\n",
       "      <td>44.0.1</td>\n",
       "      <td>4</td>\n",
       "    </tr>\n",
       "    <tr>\n",
       "      <th>7</th>\n",
       "      <td>44.0.2</td>\n",
       "      <td>58</td>\n",
       "    </tr>\n",
       "    <tr>\n",
       "      <th>8</th>\n",
       "      <td>49.0.1</td>\n",
       "      <td>72</td>\n",
       "    </tr>\n",
       "    <tr>\n",
       "      <th>9</th>\n",
       "      <td>49.0.2</td>\n",
       "      <td>491</td>\n",
       "    </tr>\n",
       "    <tr>\n",
       "      <th>10</th>\n",
       "      <td>48.0</td>\n",
       "      <td>19</td>\n",
       "    </tr>\n",
       "    <tr>\n",
       "      <th>11</th>\n",
       "      <td>46.0.1</td>\n",
       "      <td>88</td>\n",
       "    </tr>\n",
       "    <tr>\n",
       "      <th>12</th>\n",
       "      <td>47.0</td>\n",
       "      <td>65</td>\n",
       "    </tr>\n",
       "    <tr>\n",
       "      <th>13</th>\n",
       "      <td>43.0.1</td>\n",
       "      <td>20740</td>\n",
       "    </tr>\n",
       "    <tr>\n",
       "      <th>14</th>\n",
       "      <td>43.0.2</td>\n",
       "      <td>4</td>\n",
       "    </tr>\n",
       "    <tr>\n",
       "      <th>15</th>\n",
       "      <td>43.0.3</td>\n",
       "      <td>20</td>\n",
       "    </tr>\n",
       "    <tr>\n",
       "      <th>16</th>\n",
       "      <td>43.0.4</td>\n",
       "      <td>15</td>\n",
       "    </tr>\n",
       "    <tr>\n",
       "      <th>17</th>\n",
       "      <td>48.0.1</td>\n",
       "      <td>7</td>\n",
       "    </tr>\n",
       "    <tr>\n",
       "      <th>18</th>\n",
       "      <td>48.0.2</td>\n",
       "      <td>344</td>\n",
       "    </tr>\n",
       "    <tr>\n",
       "      <th>19</th>\n",
       "      <td>46.0</td>\n",
       "      <td>5</td>\n",
       "    </tr>\n",
       "  </tbody>\n",
       "</table>\n",
       "</div>"
      ],
      "text/plain": [
       "   lastVersion  Total\n",
       "0       45.0.1     49\n",
       "1       45.0.2     30\n",
       "2         45.0      7\n",
       "3       47.0.1   1379\n",
       "4         44.0      7\n",
       "5         49.0      6\n",
       "6       44.0.1      4\n",
       "7       44.0.2     58\n",
       "8       49.0.1     72\n",
       "9       49.0.2    491\n",
       "10        48.0     19\n",
       "11      46.0.1     88\n",
       "12        47.0     65\n",
       "13      43.0.1  20740\n",
       "14      43.0.2      4\n",
       "15      43.0.3     20\n",
       "16      43.0.4     15\n",
       "17      48.0.1      7\n",
       "18      48.0.2    344\n",
       "19        46.0      5"
      ]
     },
     "execution_count": 37,
     "metadata": {},
     "output_type": "execute_result"
    }
   ],
   "source": [
    "results.toPandas()"
   ]
  }
 ],
 "metadata": {
  "anaconda-cloud": {},
  "kernelspec": {
   "display_name": "Python [default]",
   "language": "python",
   "name": "python2"
  },
  "language_info": {
   "codemirror_mode": {
    "name": "ipython",
    "version": 2
   },
   "file_extension": ".py",
   "mimetype": "text/x-python",
   "name": "python",
   "nbconvert_exporter": "python",
   "pygments_lexer": "ipython2",
   "version": "2.7.12"
  }
 },
 "nbformat": 4,
 "nbformat_minor": 0
}
